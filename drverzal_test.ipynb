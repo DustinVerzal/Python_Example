{
 "cells": [
  {
   "cell_type": "code",
   "execution_count": 75,
   "metadata": {},
   "outputs": [],
   "source": [
    "from tqdm import tqdm\n",
    "import seaborn as sns\n",
    "import pandas as pd\n",
    "import requests\n",
    "from pathlib import Path\n",
    "import numpy as np\n",
    "from joblib import Parallel, delayed\n",
    "import psutil\n",
    "NUM_CORES = psutil.cpu_count()"
   ]
  },
  {
   "cell_type": "markdown",
   "metadata": {},
   "source": [
    "# A"
   ]
  },
  {
   "cell_type": "markdown",
   "metadata": {},
   "source": [
    "## A)"
   ]
  },
  {
   "cell_type": "code",
   "execution_count": null,
   "metadata": {},
   "outputs": [],
   "source": [
    "def validate_line(line):\n",
    "    line = line.rstrip().split(' ')\n",
    "    if len(line) == 2:\n",
    "        if is_valid_op(line[0]) & is_valid_hexadecimal(line[1]):\n",
    "            return [line[0], int(line[1], 16)]\n",
    "    \n",
    "def is_valid_op(op):\n",
    "    if op not in ['0', '1', '2']:\n",
    "        return False\n",
    "    return True\n",
    "\n",
    "def is_valid_hexadecimal(value):\n",
    "    try:\n",
    "        int(value, 16)\n",
    "        return True\n",
    "    except ValueError:\n",
    "        return False\n",
    "    \n",
    "# Download file\n",
    "url = \"http://www.thesleepless.com/test/SiftMD/datafile.din\"\n",
    "response = requests.get(url, stream=True)\n",
    "\n",
    "filename = Path(\"C:/Users/Dustin/Desktop/datafile.din\")\n",
    "if not filename.exists():\n",
    "    with open(str(filename), \"wb\") as handle:\n",
    "        for data in tqdm(response.iter_content()):\n",
    "            handle.write(data)\n",
    "            \n",
    "# Parse file\n",
    "cc_file = Parallel(n_jobs=NUM_CORES)(delayed(validate_line)(line) for line in open(str(filename), 'r').readlines())\n",
    "cc_file = [x for x in cc_file if x is not None]\n",
    "\n",
    "# Convert to dataframe\n",
    "cc_file = pd.DataFrame(cc_file, columns=['op_type', 'register'])\n",
    "\n",
    "# Bar plot of frequency by register\n",
    "plot_data = cc_file.groupby('register').size().plot()"
   ]
  },
  {
   "cell_type": "markdown",
   "metadata": {},
   "source": [
    "## B)"
   ]
  },
  {
   "cell_type": "code",
   "execution_count": null,
   "metadata": {},
   "outputs": [],
   "source": [
    "print(cc_file.groupby('op_type').size())"
   ]
  },
  {
   "cell_type": "markdown",
   "metadata": {},
   "source": [
    "# B"
   ]
  },
  {
   "cell_type": "markdown",
   "metadata": {},
   "source": [
    "## A)"
   ]
  },
  {
   "cell_type": "code",
   "execution_count": 225,
   "metadata": {},
   "outputs": [
    {
     "name": "stdout",
     "output_type": "stream",
     "text": [
      "1.05 s ± 176 ms per loop (mean ± std. dev. of 7 runs, 1 loop each)\n",
      "822 ms ± 16.4 ms per loop (mean ± std. dev. of 7 runs, 1 loop each)\n"
     ]
    }
   ],
   "source": [
    "import random\n",
    "import timeit\n",
    "def generate_matrix_int(rows, cols):\n",
    "    return [[random.randint(0, 9) for x in range(cols)] for y in range(rows)]\n",
    "\n",
    "def generate_matrix_dbl(rows, cols):\n",
    "    return [[random.uniform(0, 9) for x in range(cols)] for y in range(rows)]\n",
    "\n",
    "def mult_row(A, B):        \n",
    "    if len(A[0]) != len(B):\n",
    "        print('INVALID MATRICES')\n",
    "        return\n",
    "    \n",
    "    n = len(A)\n",
    "    m = len(A[0])\n",
    "    p = len(B[0])\n",
    "    \n",
    "    C = [[0 for x in range(p)] for y in range(n)]\n",
    "    for i in range(n):\n",
    "        for j in range(p):\n",
    "            val = 0\n",
    "            for k in range(m):\n",
    "                val = val + A[i][k]* B[k][j]\n",
    "            C[i][j] = val\n",
    "    return C\n",
    "\n",
    "A_int = generate_matrix_int(348, 200)\n",
    "A_dbl = generate_matrix_dbl(348, 200)\n",
    "\n",
    "B_int = generate_matrix_int(200, 140)\n",
    "B_dbl = generate_matrix_dbl(200, 140)\n",
    "\n",
    "%timeit mult_row(A_int, B_int)\n",
    "%timeit mult_row(A_dbl, B_dbl)"
   ]
  },
  {
   "cell_type": "markdown",
   "metadata": {},
   "source": [
    "## B)"
   ]
  },
  {
   "cell_type": "code",
   "execution_count": 226,
   "metadata": {},
   "outputs": [
    {
     "name": "stdout",
     "output_type": "stream",
     "text": [
      "1.23 s ± 165 ms per loop (mean ± std. dev. of 7 runs, 1 loop each)\n",
      "899 ms ± 57 ms per loop (mean ± std. dev. of 7 runs, 1 loop each)\n"
     ]
    }
   ],
   "source": [
    "def mult_col(A, B):        \n",
    "    if len(A[0]) != len(B):\n",
    "        print('INVALID MATRICES')\n",
    "        return\n",
    "    \n",
    "    n = len(A)\n",
    "    m = len(A[0])\n",
    "    p = len(B[0])\n",
    "    \n",
    "    C = [[0 for x in range(p)] for y in range(n)]\n",
    "    for j in range(p):\n",
    "        for i in range(n):\n",
    "            val = 0\n",
    "            for k in range(m):\n",
    "                val = val + A[i][k]* B[k][j]\n",
    "            C[i][j] = val\n",
    "    return C\n",
    "\n",
    "\n",
    "\n",
    "%timeit mult_col(A_int, B_int)\n",
    "%timeit mult_col(A_dbl, B_dbl)"
   ]
  },
  {
   "cell_type": "code",
   "execution_count": null,
   "metadata": {},
   "outputs": [],
   "source": []
  }
 ],
 "metadata": {
  "kernelspec": {
   "display_name": "Python 3",
   "language": "python",
   "name": "python3"
  },
  "language_info": {
   "codemirror_mode": {
    "name": "ipython",
    "version": 3
   },
   "file_extension": ".py",
   "mimetype": "text/x-python",
   "name": "python",
   "nbconvert_exporter": "python",
   "pygments_lexer": "ipython3",
   "version": "3.6.5"
  }
 },
 "nbformat": 4,
 "nbformat_minor": 2
}
